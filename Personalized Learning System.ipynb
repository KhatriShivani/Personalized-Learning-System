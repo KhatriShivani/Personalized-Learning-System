{
 "cells": [
  {
   "cell_type": "code",
   "execution_count": 3,
   "id": "b3c25012-39fb-43e8-8ecb-c7779ac7ea50",
   "metadata": {},
   "outputs": [
    {
     "data": {
      "text/html": [
       "<div>\n",
       "<style scoped>\n",
       "    .dataframe tbody tr th:only-of-type {\n",
       "        vertical-align: middle;\n",
       "    }\n",
       "\n",
       "    .dataframe tbody tr th {\n",
       "        vertical-align: top;\n",
       "    }\n",
       "\n",
       "    .dataframe thead th {\n",
       "        text-align: right;\n",
       "    }\n",
       "</style>\n",
       "<table border=\"1\" class=\"dataframe\">\n",
       "  <thead>\n",
       "    <tr style=\"text-align: right;\">\n",
       "      <th></th>\n",
       "      <th>quiz_score</th>\n",
       "      <th>time_spent</th>\n",
       "      <th>learning_style</th>\n",
       "    </tr>\n",
       "  </thead>\n",
       "  <tbody>\n",
       "    <tr>\n",
       "      <th>0</th>\n",
       "      <td>51</td>\n",
       "      <td>53</td>\n",
       "      <td>auditory</td>\n",
       "    </tr>\n",
       "    <tr>\n",
       "      <th>1</th>\n",
       "      <td>92</td>\n",
       "      <td>44</td>\n",
       "      <td>visual</td>\n",
       "    </tr>\n",
       "    <tr>\n",
       "      <th>2</th>\n",
       "      <td>14</td>\n",
       "      <td>20</td>\n",
       "      <td>kinesthetic</td>\n",
       "    </tr>\n",
       "    <tr>\n",
       "      <th>3</th>\n",
       "      <td>71</td>\n",
       "      <td>52</td>\n",
       "      <td>visual</td>\n",
       "    </tr>\n",
       "    <tr>\n",
       "      <th>4</th>\n",
       "      <td>60</td>\n",
       "      <td>32</td>\n",
       "      <td>auditory</td>\n",
       "    </tr>\n",
       "  </tbody>\n",
       "</table>\n",
       "</div>"
      ],
      "text/plain": [
       "   quiz_score  time_spent learning_style\n",
       "0          51          53       auditory\n",
       "1          92          44         visual\n",
       "2          14          20    kinesthetic\n",
       "3          71          52         visual\n",
       "4          60          32       auditory"
      ]
     },
     "execution_count": 3,
     "metadata": {},
     "output_type": "execute_result"
    }
   ],
   "source": [
    "import pandas as pd\n",
    "import numpy as np\n",
    "dataset = pd.read_csv('learning_style_dataset.csv')\n",
    "dataset.head()"
   ]
  },
  {
   "cell_type": "code",
   "execution_count": 6,
   "id": "8185e479-fcb7-4ec4-b2e2-3553dff14821",
   "metadata": {},
   "outputs": [
    {
     "name": "stdout",
     "output_type": "stream",
     "text": [
      "Confusion Matrix:\n",
      "[[3729    0    0]\n",
      " [   0 4953    0]\n",
      " [   0    0 3818]]\n",
      "Accuracy: 1.0\n",
      "Precision: 1.0\n",
      "Recall: 1.0\n",
      "F1 Score: 1.0\n",
      "Cross-Validation Scores: [0.9999 1.     0.9999 1.     1.    ]\n",
      "Mean Cross-Validation Score: 0.9999600000000001\n"
     ]
    }
   ],
   "source": [
    "from sklearn.model_selection import train_test_split, cross_val_score\n",
    "from sklearn.neighbors import KNeighborsClassifier\n",
    "from sklearn.metrics import accuracy_score, confusion_matrix, recall_score, precision_score, f1_score\n",
    "\n",
    "x = dataset[['quiz_score', 'time_spent']]\n",
    "y = dataset['learning_style']\n",
    "\n",
    "X_train, X_test, Y_train, Y_test = train_test_split(x, y, random_state=0, train_size=0.75)\n",
    "\n",
    "clf = KNeighborsClassifier(n_neighbors=3)\n",
    "\n",
    "clf.fit(X_train, Y_train)\n",
    "\n",
    "Y_pred = clf.predict(X_test)\n",
    "\n",
    "cm = confusion_matrix(Y_test, Y_pred)\n",
    "print(\"Confusion Matrix:\")\n",
    "print(cm)\n",
    "\n",
    "ac = accuracy_score(Y_test, Y_pred)\n",
    "print(f\"Accuracy: {ac}\")\n",
    "\n",
    "precision = precision_score(Y_test, Y_pred, average=\"micro\")\n",
    "print(f\"Precision: {precision}\")\n",
    "\n",
    "recall = recall_score(Y_test, Y_pred, average=\"micro\")\n",
    "print(f\"Recall: {recall}\")\n",
    "\n",
    "f1 = f1_score(Y_test, Y_pred, average=\"micro\")\n",
    "print(f\"F1 Score: {f1}\")\n",
    "\n",
    "cv_scores = cross_val_score(clf, x, y, cv=5)\n",
    "print(f\"Cross-Validation Scores: {cv_scores}\")\n",
    "print(f\"Mean Cross-Validation Score: {np.mean(cv_scores)}\")"
   ]
  },
  {
   "cell_type": "code",
   "execution_count": 7,
   "id": "89f24352-49d2-4a8f-9602-3b8e3dad9f1f",
   "metadata": {},
   "outputs": [
    {
     "name": "stdin",
     "output_type": "stream",
     "text": [
      "Time spent by the User:  54\n",
      "Scores obtained by the User:  34\n"
     ]
    },
    {
     "name": "stdout",
     "output_type": "stream",
     "text": [
      "Prediction result: kinesthetic\n"
     ]
    }
   ],
   "source": [
    "time_spent = int(input(\"Time spent by the User: \"))\n",
    "quiz_scores = int(input(\"Scores obtained by the User: \"))\n",
    "\n",
    "input_data = pd.DataFrame([[quiz_scores, time_spent]], columns=[\"quiz_score\", \"time_spent\"])\n",
    "\n",
    "result = clf.predict(input_data)\n",
    "\n",
    "print(\"Prediction result:\", result[0])"
   ]
  },
  {
   "cell_type": "code",
   "execution_count": 15,
   "id": "66743e79-df19-45e3-9e82-72cfa6883899",
   "metadata": {},
   "outputs": [
    {
     "data": {
      "text/html": [
       "<div>\n",
       "<style scoped>\n",
       "    .dataframe tbody tr th:only-of-type {\n",
       "        vertical-align: middle;\n",
       "    }\n",
       "\n",
       "    .dataframe tbody tr th {\n",
       "        vertical-align: top;\n",
       "    }\n",
       "\n",
       "    .dataframe thead th {\n",
       "        text-align: right;\n",
       "    }\n",
       "</style>\n",
       "<table border=\"1\" class=\"dataframe\">\n",
       "  <thead>\n",
       "    <tr style=\"text-align: right;\">\n",
       "      <th></th>\n",
       "      <th>_id</th>\n",
       "      <th>topic</th>\n",
       "      <th>Article</th>\n",
       "      <th>Youtube</th>\n",
       "    </tr>\n",
       "  </thead>\n",
       "  <tbody>\n",
       "    <tr>\n",
       "      <th>0</th>\n",
       "      <td>665dc8500ddd15fd4aaf2a04</td>\n",
       "      <td>Percentages</td>\n",
       "      <td>https://www.geeksforgeeks.org/percentage-aptit...</td>\n",
       "      <td>https://youtu.be/RWdNhJWwzSs</td>\n",
       "    </tr>\n",
       "    <tr>\n",
       "      <th>1</th>\n",
       "      <td>665dc8500ddd15fd4aaf2a05</td>\n",
       "      <td>Boats and streams</td>\n",
       "      <td>https://www.bing.com/search?q=boats+and+stream...</td>\n",
       "      <td>https://youtu.be/yp2tgfwT3YU</td>\n",
       "    </tr>\n",
       "    <tr>\n",
       "      <th>2</th>\n",
       "      <td>665dc8500ddd15fd4aaf2a06</td>\n",
       "      <td>Age problems</td>\n",
       "      <td>https://byjus.com/govt-exams/age-problems/</td>\n",
       "      <td>https://youtu.be/b9YMbDH02rM</td>\n",
       "    </tr>\n",
       "    <tr>\n",
       "      <th>3</th>\n",
       "      <td>665dc8500ddd15fd4aaf2a07</td>\n",
       "      <td>Time, distance, speed</td>\n",
       "      <td>https://byjus.com/speed-distance-time-formula/</td>\n",
       "      <td>https://youtu.be/dHVK7IeLGT8</td>\n",
       "    </tr>\n",
       "    <tr>\n",
       "      <th>4</th>\n",
       "      <td>665dc8500ddd15fd4aaf2a08</td>\n",
       "      <td>Number series</td>\n",
       "      <td>https://www.geeksforgeeks.org/number-series-in...</td>\n",
       "      <td>https://youtu.be/iwpd_RkG-1U</td>\n",
       "    </tr>\n",
       "    <tr>\n",
       "      <th>5</th>\n",
       "      <td>665dc8500ddd15fd4aaf2a09</td>\n",
       "      <td>Pipes and cisterns</td>\n",
       "      <td>https://byjus.com/govt-exams/pipes-cistern-que...</td>\n",
       "      <td>https://youtu.be/AHEFRed92zM</td>\n",
       "    </tr>\n",
       "  </tbody>\n",
       "</table>\n",
       "</div>"
      ],
      "text/plain": [
       "                        _id                  topic  \\\n",
       "0  665dc8500ddd15fd4aaf2a04            Percentages   \n",
       "1  665dc8500ddd15fd4aaf2a05      Boats and streams   \n",
       "2  665dc8500ddd15fd4aaf2a06           Age problems   \n",
       "3  665dc8500ddd15fd4aaf2a07  Time, distance, speed   \n",
       "4  665dc8500ddd15fd4aaf2a08          Number series   \n",
       "5  665dc8500ddd15fd4aaf2a09     Pipes and cisterns   \n",
       "\n",
       "                                             Article  \\\n",
       "0  https://www.geeksforgeeks.org/percentage-aptit...   \n",
       "1  https://www.bing.com/search?q=boats+and+stream...   \n",
       "2         https://byjus.com/govt-exams/age-problems/   \n",
       "3     https://byjus.com/speed-distance-time-formula/   \n",
       "4  https://www.geeksforgeeks.org/number-series-in...   \n",
       "5  https://byjus.com/govt-exams/pipes-cistern-que...   \n",
       "\n",
       "                        Youtube  \n",
       "0  https://youtu.be/RWdNhJWwzSs  \n",
       "1  https://youtu.be/yp2tgfwT3YU  \n",
       "2  https://youtu.be/b9YMbDH02rM  \n",
       "3  https://youtu.be/dHVK7IeLGT8  \n",
       "4  https://youtu.be/iwpd_RkG-1U  \n",
       "5  https://youtu.be/AHEFRed92zM  "
      ]
     },
     "execution_count": 15,
     "metadata": {},
     "output_type": "execute_result"
    }
   ],
   "source": [
    "df = pd.read_csv('content_database.content_collection_csv.csv')\n",
    "df.tail(6)"
   ]
  },
  {
   "cell_type": "code",
   "execution_count": 13,
   "id": "00bc3789-02eb-4153-b62f-bc381eb7eb6e",
   "metadata": {},
   "outputs": [
    {
     "name": "stdout",
     "output_type": "stream",
     "text": [
      "Suggested topics for kinesthetic learners are: Number series & Pipes and cisterns\n"
     ]
    },
    {
     "name": "stdin",
     "output_type": "stream",
     "text": [
      "Which topic do you prefer? Number series or Pipes and cisterns:  Pipes and cisterns\n",
      "Do you prefer YouTube or article?:  YouTube\n"
     ]
    },
    {
     "name": "stdout",
     "output_type": "stream",
     "text": [
      "Here is the YouTube link for Pipes and cisterns: https://youtu.be/AHEFRed92zM\n"
     ]
    }
   ],
   "source": [
    "learning_style_topics = {\n",
    "    'visual': ['Percentages', 'Boats and streams'],\n",
    "    'auditory': ['Age problems', 'Time, distance, speed'],\n",
    "    'kinesthetic': ['Number series', 'Pipes and cisterns']\n",
    "}\n",
    "\n",
    "if isinstance(result, (list, np.ndarray)):\n",
    "    result = result[0] \n",
    "\n",
    "suggested_topics = learning_style_topics[result]\n",
    "print(f\"Suggested topics for {result} learners are: {suggested_topics[0]} & {suggested_topics[1]}\")\n",
    "\n",
    "chosen_topic = input(f\"Which topic do you prefer? {suggested_topics[0]} or {suggested_topics[1]}: \")\n",
    "\n",
    "if chosen_topic not in suggested_topics:\n",
    "    print(\"Invalid topic chosen.\")\n",
    "else:\n",
    "    resource_preference = input(\"Do you prefer YouTube or article?: \").lower()\n",
    "\n",
    "    topic_row = df[df['topic'] == chosen_topic].iloc[0]\n",
    "    if resource_preference == 'youtube':\n",
    "        print(f\"Here is the YouTube link for {chosen_topic}: {topic_row['Youtube']}\")\n",
    "    elif resource_preference == 'article':\n",
    "        print(f\"Here is the article link for {chosen_topic}: {topic_row['Article']}\")\n",
    "    else:\n",
    "        print(\"Invalid preference chosen.\")"
   ]
  },
  {
   "cell_type": "code",
   "execution_count": null,
   "id": "ce9f9dff-7509-4a83-a371-adfae086b29f",
   "metadata": {},
   "outputs": [],
   "source": []
  }
 ],
 "metadata": {
  "kernelspec": {
   "display_name": "Python 3 (ipykernel)",
   "language": "python",
   "name": "python3"
  },
  "language_info": {
   "codemirror_mode": {
    "name": "ipython",
    "version": 3
   },
   "file_extension": ".py",
   "mimetype": "text/x-python",
   "name": "python",
   "nbconvert_exporter": "python",
   "pygments_lexer": "ipython3",
   "version": "3.12.2"
  }
 },
 "nbformat": 4,
 "nbformat_minor": 5
}
